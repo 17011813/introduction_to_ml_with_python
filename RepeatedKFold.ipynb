{
 "cells": [
  {
   "cell_type": "markdown",
   "metadata": {},
   "source": [
    "이 노트북의 코드에 대한 설명은 [반복 교차 검증](https://tensorflow.blog/2017/12/27/%EB%B0%98%EB%B3%B5-%EA%B5%90%EC%B0%A8-%EA%B2%80%EC%A6%9D/) 글을 참고하세요."
   ]
  },
  {
   "cell_type": "code",
   "execution_count": 1,
   "metadata": {},
   "outputs": [
    {
     "name": "stdout",
     "output_type": "stream",
     "text": [
      "CPython 3.5.6\n",
      "IPython 6.5.0\n",
      "\n",
      "sklearn 0.20.0\n",
      "numpy 1.15.2\n",
      "scipy 1.1.0\n"
     ]
    }
   ],
   "source": [
    "%load_ext watermark\n",
    "%watermark -v -p sklearn,numpy,scipy"
   ]
  },
  {
   "cell_type": "code",
   "execution_count": 2,
   "metadata": {},
   "outputs": [],
   "source": [
    "import matplotlib.pyplot as plt\n",
    "%matplotlib inline"
   ]
  },
  {
   "cell_type": "code",
   "execution_count": 3,
   "metadata": {},
   "outputs": [],
   "source": [
    "from sklearn.datasets import load_iris\n",
    "from sklearn.model_selection import cross_val_score, KFold, StratifiedKFold\n",
    "from sklearn.linear_model import LogisticRegression"
   ]
  },
  {
   "cell_type": "code",
   "execution_count": 4,
   "metadata": {},
   "outputs": [],
   "source": [
    "iris = load_iris()\n",
    "logreg = LogisticRegression(solver='lbfgs', multi_class='auto', max_iter=1000)"
   ]
  },
  {
   "cell_type": "markdown",
   "metadata": {},
   "source": [
    "RepeatedKFold"
   ]
  },
  {
   "cell_type": "code",
   "execution_count": 5,
   "metadata": {},
   "outputs": [
    {
     "data": {
      "text/plain": [
       "(array([1.        , 1.        , 0.86666667, 0.93333333, 0.83333333]),\n",
       " 0.9266666666666665)"
      ]
     },
     "execution_count": 5,
     "metadata": {},
     "output_type": "execute_result"
    }
   ],
   "source": [
    "kfold = KFold(n_splits=5)\n",
    "scores = cross_val_score(logreg, iris.data, iris.target, cv=kfold)\n",
    "scores, scores.mean()"
   ]
  },
  {
   "cell_type": "code",
   "execution_count": 6,
   "metadata": {},
   "outputs": [
    {
     "data": {
      "text/plain": [
       "(array([1.        , 1.        , 0.93333333, 0.96666667, 0.96666667,\n",
       "        0.96666667, 1.        , 0.93333333, 1.        , 0.93333333,\n",
       "        0.96666667, 0.9       , 1.        , 1.        , 0.96666667,\n",
       "        0.93333333, 1.        , 0.9       , 0.96666667, 1.        ,\n",
       "        0.93333333, 0.96666667, 1.        , 0.93333333, 0.96666667]),\n",
       " 0.9653333333333333)"
      ]
     },
     "execution_count": 6,
     "metadata": {},
     "output_type": "execute_result"
    }
   ],
   "source": [
    "from sklearn.model_selection import RepeatedKFold\n",
    "rkfold = RepeatedKFold(n_splits=5, n_repeats=5, random_state=42)\n",
    "scores = cross_val_score(logreg, iris.data, iris.target, cv=rkfold)\n",
    "scores, scores.mean()"
   ]
  },
  {
   "cell_type": "code",
   "execution_count": 7,
   "metadata": {},
   "outputs": [
    {
     "data": {
      "image/png": "[encoded data removed]",
      "text/plain": [
       "<Figure size 432x288 with 1 Axes>"
      ]
     },
     "metadata": {
      "needs_background": "light"
     },
     "output_type": "display_data"
    }
   ],
   "source": [
    "plt.boxplot(scores)\n",
    "plt.show()"
   ]
  },
  {
   "cell_type": "markdown",
   "metadata": {},
   "source": [
    "RepeatedStratifiedKFold"
   ]
  },
  {
   "cell_type": "code",
   "execution_count": 8,
   "metadata": {},
   "outputs": [
    {
     "data": {
      "text/plain": [
       "(array([0.96666667, 1.        , 0.93333333, 0.96666667, 1.        ]),\n",
       " 0.9733333333333334)"
      ]
     },
     "execution_count": 8,
     "metadata": {},
     "output_type": "execute_result"
    }
   ],
   "source": [
    "skfold = StratifiedKFold(n_splits=5)\n",
    "scores = cross_val_score(logreg, iris.data, iris.target, cv=skfold)\n",
    "scores, scores.mean()"
   ]
  },
  {
   "cell_type": "code",
   "execution_count": 9,
   "metadata": {},
   "outputs": [
    {
     "data": {
      "text/plain": [
       "(array([1.        , 0.96666667, 0.96666667, 0.93333333, 0.96666667,\n",
       "        0.93333333, 1.        , 0.96666667, 0.96666667, 0.96666667,\n",
       "        0.96666667, 0.9       , 1.        , 0.96666667, 0.96666667,\n",
       "        1.        , 0.96666667, 0.96666667, 0.93333333, 0.96666667,\n",
       "        0.96666667, 0.96666667, 0.96666667, 1.        , 0.93333333]),\n",
       " 0.9653333333333335)"
      ]
     },
     "execution_count": 9,
     "metadata": {},
     "output_type": "execute_result"
    }
   ],
   "source": [
    "from sklearn.model_selection import RepeatedStratifiedKFold\n",
    "rskfold = RepeatedStratifiedKFold(n_splits=5, n_repeats=5, random_state=42)\n",
    "scores = cross_val_score(logreg, iris.data, iris.target, cv=rskfold)\n",
    "scores, scores.mean()"
   ]
  },
  {
   "cell_type": "code",
   "execution_count": 10,
   "metadata": {},
   "outputs": [
    {
     "data": {
      "image/png": "[encoded data removed]",
      "text/plain": [
       "<Figure size 432x288 with 1 Axes>"
      ]
     },
     "metadata": {
      "needs_background": "light"
     },
     "output_type": "display_data"
    }
   ],
   "source": [
    "plt.boxplot(scores)\n",
    "plt.show()"
   ]
  },
  {
   "cell_type": "code",
   "execution_count": 11,
   "metadata": {},
   "outputs": [
    {
     "data": {
      "text/plain": [
       "GridSearchCV(cv=<sklearn.model_selection._split.RepeatedStratifiedKFold object at 0x7ff472827c18>,\n",
       "       error_score='raise-deprecating',\n",
       "       estimator=LogisticRegression(C=1.0, class_weight=None, dual=False, fit_intercept=True,\n",
       "          intercept_scaling=1, max_iter=1000, multi_class='auto',\n",
       "          n_jobs=None, penalty='l2', random_state=None, solver='lbfgs',\n",
       "          tol=0.0001, verbose=0, warm_start=False),\n",
       "       fit_params=None, iid=False, n_jobs=None,\n",
       "       param_grid={'C': [0.001, 0.01, 0.1, 1, 10, 100, 1000]},\n",
       "       pre_dispatch='2*n_jobs', refit=True, return_train_score=True,\n",
       "       scoring=None, verbose=0)"
      ]
     },
     "execution_count": 11,
     "metadata": {},
     "output_type": "execute_result"
    }
   ],
   "source": [
    "from sklearn.model_selection import GridSearchCV, train_test_split\n",
    "X_train, X_test, y_train, y_test = train_test_split(iris.data, iris.target, random_state=42)\n",
    "param_grid = {'C': [0.001, 0.01, 0.1, 1, 10, 100, 1000]}\n",
    "grid_search = GridSearchCV(logreg, param_grid, cv=rskfold, return_train_score=True, iid=False)\n",
    "grid_search.fit(X_train, y_train)"
   ]
  },
  {
   "cell_type": "code",
   "execution_count": 12,
   "metadata": {},
   "outputs": [
    {
     "data": {
      "text/plain": [
       "(1.0, {'C': 1}, 0.9556220591003199)"
      ]
     },
     "execution_count": 12,
     "metadata": {},
     "output_type": "execute_result"
    }
   ],
   "source": [
    "grid_search.score(X_test, y_test), grid_search.best_params_, grid_search.best_score_"
   ]
  },
  {
   "cell_type": "code",
   "execution_count": 13,
   "metadata": {},
   "outputs": [
    {
     "name": "stdout",
     "output_type": "stream",
     "text": [
      "split15_train_score [0.88764045 0.87640449 0.92134831 0.97752809 0.97752809 1.\n",
      " 1.        ]\n",
      "split13_test_score [0.81818182 0.95454545 1.         1.         0.95454545 0.95454545\n",
      " 0.90909091]\n",
      "split21_test_score [0.82608696 0.82608696 0.95652174 0.95652174 0.91304348 0.91304348\n",
      " 0.91304348]\n",
      "split24_test_score [0.95238095 0.9047619  0.95238095 1.         1.         0.95238095\n",
      " 0.95238095]\n",
      "split11_train_score [0.8988764  0.86516854 0.93258427 0.96629213 0.97752809 0.97752809\n",
      " 0.97752809]\n",
      "split2_train_score [0.92134831 0.87640449 0.95505618 0.96629213 1.         1.\n",
      " 1.        ]\n",
      "split9_train_score [0.89010989 0.87912088 0.92307692 0.96703297 0.97802198 0.97802198\n",
      " 0.97802198]\n",
      "split15_test_score [0.86956522 0.86956522 0.95652174 0.95652174 0.95652174 0.95652174\n",
      " 0.95652174]\n",
      "split3_test_score [0.72727273 0.90909091 0.90909091 1.         1.         1.\n",
      " 1.        ]\n",
      "split14_train_score [0.9010989  0.89010989 0.94505495 0.96703297 0.97802198 0.97802198\n",
      " 0.97802198]\n",
      "split16_train_score [0.91011236 0.86516854 0.95505618 0.95505618 0.96629213 0.97752809\n",
      " 0.97752809]\n",
      "split19_test_score [0.85714286 0.85714286 0.95238095 0.95238095 0.9047619  0.9047619\n",
      " 0.95238095]\n",
      "split24_train_score [0.87912088 0.86813187 0.94505495 0.96703297 0.98901099 0.97802198\n",
      " 0.97802198]\n",
      "split1_test_score [0.86956522 0.82608696 0.95652174 0.95652174 1.         1.\n",
      " 1.        ]\n",
      "split17_test_score [1.         0.95652174 1.         1.         0.95652174 0.95652174\n",
      " 0.95652174]\n",
      "split18_test_score [0.72727273 0.77272727 0.90909091 0.95454545 0.90909091 0.90909091\n",
      " 0.90909091]\n",
      "split0_train_score [0.88764045 0.87640449 0.92134831 0.96629213 0.97752809 0.98876404\n",
      " 0.98876404]\n",
      "split8_test_score [0.81818182 0.90909091 1.         1.         0.90909091 0.90909091\n",
      " 0.90909091]\n",
      "split6_test_score [0.91304348 0.86956522 0.91304348 0.95652174 0.95652174 0.95652174\n",
      " 0.95652174]\n",
      "split10_train_score [0.91011236 0.87640449 0.94382022 0.97752809 0.98876404 0.97752809\n",
      " 0.97752809]\n",
      "split5_test_score [0.7826087  0.7826087  0.7826087  0.82608696 0.86956522 0.86956522\n",
      " 0.86956522]\n",
      "split12_test_score [0.82608696 0.82608696 0.82608696 0.91304348 0.95652174 0.91304348\n",
      " 0.95652174]\n",
      "split19_train_score [0.89010989 0.87912088 0.94505495 0.96703297 0.98901099 0.98901099\n",
      " 0.98901099]\n",
      "split8_train_score [0.76666667 0.85555556 0.92222222 0.96666667 0.98888889 0.97777778\n",
      " 0.97777778]\n",
      "split2_test_score [0.86956522 0.86956522 0.91304348 0.95652174 0.91304348 0.91304348\n",
      " 0.91304348]\n",
      "split17_train_score [0.88764045 0.84269663 0.93258427 0.95505618 0.97752809 0.97752809\n",
      " 0.97752809]\n",
      "split7_train_score [0.88764045 0.85393258 0.93258427 0.96629213 0.97752809 0.97752809\n",
      " 0.98876404]\n",
      "split5_train_score [0.91011236 0.8988764  0.96629213 0.98876404 0.98876404 1.\n",
      " 1.        ]\n",
      "split0_test_score [0.91304348 0.86956522 0.95652174 0.95652174 0.95652174 0.95652174\n",
      " 0.95652174]\n",
      "split23_test_score [0.72727273 0.86363636 0.86363636 0.90909091 0.90909091 0.95454545\n",
      " 0.95454545]\n",
      "split14_test_score [0.80952381 0.80952381 0.85714286 0.9047619  0.95238095 0.95238095\n",
      " 0.9047619 ]\n",
      "split12_train_score [0.88764045 0.88764045 0.95505618 0.97752809 0.98876404 1.\n",
      " 1.        ]\n",
      "split21_train_score [0.92134831 0.88764045 0.94382022 0.96629213 0.98876404 0.98876404\n",
      " 1.        ]\n",
      "split9_test_score [0.9047619  0.85714286 1.         1.         1.         1.\n",
      " 1.        ]\n",
      "split20_test_score [0.91304348 0.91304348 0.95652174 0.95652174 0.95652174 1.\n",
      " 1.        ]\n",
      "split18_train_score [0.77777778 0.87777778 0.93333333 0.96666667 0.98888889 0.97777778\n",
      " 0.97777778]\n",
      "split10_test_score [0.91304348 0.82608696 0.95652174 0.95652174 0.91304348 0.91304348\n",
      " 0.86956522]\n",
      "split7_test_score [0.95652174 0.95652174 1.         0.91304348 0.91304348 0.95652174\n",
      " 0.91304348]\n",
      "split4_train_score [0.89010989 0.86813187 0.94505495 0.96703297 0.97802198 0.97802198\n",
      " 0.97802198]\n",
      "split22_train_score [0.8988764  0.87640449 0.93258427 0.96629213 0.97752809 0.97752809\n",
      " 0.97752809]\n",
      "split6_train_score [0.91011236 0.87640449 0.95505618 0.96629213 0.98876404 0.97752809\n",
      " 0.97752809]\n",
      "split22_test_score [0.95652174 0.82608696 1.         1.         1.         0.95652174\n",
      " 0.95652174]\n",
      "split16_test_score [0.91304348 0.91304348 0.86956522 0.91304348 0.95652174 0.95652174\n",
      " 0.95652174]\n",
      "split23_train_score [0.77777778 0.86666667 0.94444444 0.97777778 0.97777778 0.97777778\n",
      " 1.        ]\n",
      "split3_train_score [0.77777778 0.86666667 0.93333333 0.95555556 0.98888889 0.97777778\n",
      " 0.97777778]\n",
      "split11_test_score [0.95652174 0.91304348 1.         1.         1.         1.\n",
      " 1.        ]\n",
      "split4_test_score [0.9047619  0.9047619  0.95238095 0.95238095 0.95238095 0.95238095\n",
      " 1.        ]\n",
      "split20_train_score [0.8988764  0.86516854 0.93258427 0.95505618 0.97752809 0.97752809\n",
      " 0.97752809]\n",
      "split1_train_score [0.92134831 0.88764045 0.94382022 0.95505618 0.96629213 0.97752809\n",
      " 0.97752809]\n",
      "split13_train_score [0.77777778 0.85555556 0.93333333 0.95555556 0.98888889 0.98888889\n",
      " 1.        ]\n"
     ]
    }
   ],
   "source": [
    "for k in grid_search.cv_results_:\n",
    "    if 'split' in k:\n",
    "        print(k, grid_search.cv_results_[k])"
   ]
  }
 ],
 "metadata": {
  "kernelspec": {
   "display_name": "Python 3",
   "language": "python",
   "name": "python3"
  },
  "language_info": {
   "codemirror_mode": {
    "name": "ipython",
    "version": 3
   },
   "file_extension": ".py",
   "mimetype": "text/x-python",
   "name": "python",
   "nbconvert_exporter": "python",
   "pygments_lexer": "ipython3",
   "version": "3.5.6"
  }
 },
 "nbformat": 4,
 "nbformat_minor": 2
}
